{
 "cells": [
  {
   "cell_type": "code",
   "execution_count": 518,
   "id": "44dbe6af-3c4a-408f-8352-6f1ff2d49e68",
   "metadata": {},
   "outputs": [],
   "source": [
    "import pandas as pd\n",
    "import matplotlib.pyplot as plt\n",
    "import os\n",
    "import glob\n",
    "\n",
    "dataset_name = 'ytc'\n",
    "all_files = glob.glob(os.path.join(\"../exp\", dataset_name, \"results_comparison_*.csv\"))\n",
    "li = []\n",
    "for filename in all_files:\n",
    "    df = pd.read_csv(filename, index_col=None, header=0)\n",
    "    li.append(df)\n",
    "\n",
    "df = pd.concat(li, axis=0, ignore_index=True)\n",
    "#df = pd.read_csv('results.csv')}"
   ]
  },
  {
   "cell_type": "code",
   "execution_count": 519,
   "id": "665ee96f-c046-47e0-909b-41af4488eb8e",
   "metadata": {},
   "outputs": [],
   "source": [
    "df_accuracy = df.groupby(['methd', 'tau']).correct.mean().reset_index(drop=False)\n",
    "df_payload = df.groupby(['tau']).payload_size.mean().reset_index(drop=False)"
   ]
  },
  {
   "cell_type": "code",
   "execution_count": 520,
   "id": "a7de82b4-fb09-4f3e-b466-e342896abfd6",
   "metadata": {},
   "outputs": [
    {
     "data": {
      "text/html": [
       "<div>\n",
       "<style scoped>\n",
       "    .dataframe tbody tr th:only-of-type {\n",
       "        vertical-align: middle;\n",
       "    }\n",
       "\n",
       "    .dataframe tbody tr th {\n",
       "        vertical-align: top;\n",
       "    }\n",
       "\n",
       "    .dataframe thead th {\n",
       "        text-align: right;\n",
       "    }\n",
       "</style>\n",
       "<table border=\"1\" class=\"dataframe\">\n",
       "  <thead>\n",
       "    <tr style=\"text-align: right;\">\n",
       "      <th>tau</th>\n",
       "      <th>0.0</th>\n",
       "      <th>5.5</th>\n",
       "    </tr>\n",
       "    <tr>\n",
       "      <th>methd</th>\n",
       "      <th></th>\n",
       "      <th></th>\n",
       "    </tr>\n",
       "  </thead>\n",
       "  <tbody>\n",
       "    <tr>\n",
       "      <th>CNT</th>\n",
       "      <td>0.783333</td>\n",
       "      <td>0.825000</td>\n",
       "    </tr>\n",
       "    <tr>\n",
       "      <th>COS</th>\n",
       "      <td>0.991667</td>\n",
       "      <td>0.950000</td>\n",
       "    </tr>\n",
       "    <tr>\n",
       "      <th>WNG</th>\n",
       "      <td>1.000000</td>\n",
       "      <td>0.991667</td>\n",
       "    </tr>\n",
       "    <tr>\n",
       "      <th>WNG+COS</th>\n",
       "      <td>1.000000</td>\n",
       "      <td>0.975000</td>\n",
       "    </tr>\n",
       "  </tbody>\n",
       "</table>\n",
       "</div>"
      ],
      "text/plain": [
       "tau           0.0       5.5\n",
       "methd                      \n",
       "CNT      0.783333  0.825000\n",
       "COS      0.991667  0.950000\n",
       "WNG      1.000000  0.991667\n",
       "WNG+COS  1.000000  0.975000"
      ]
     },
     "execution_count": 520,
     "metadata": {},
     "output_type": "execute_result"
    }
   ],
   "source": [
    "import numpy as np\n",
    "df_pivot = pd.pivot_table(df, values=\"correct\", index=\"tau\", columns=\"methd\", aggfunc=np.mean)\n",
    "df_pivot.T"
   ]
  },
  {
   "cell_type": "code",
   "execution_count": null,
   "id": "1cda5459-949a-4491-9ee6-ecaf7423c28b",
   "metadata": {},
   "outputs": [],
   "source": []
  },
  {
   "cell_type": "code",
   "execution_count": 521,
   "id": "be2b4572-07a2-4de1-abba-b095dc0ca3f0",
   "metadata": {},
   "outputs": [
    {
     "data": {
      "image/png": "[encoded data removed]",
      "text/plain": [
       "<Figure size 504x288 with 2 Axes>"
      ]
     },
     "metadata": {
      "needs_background": "light"
     },
     "output_type": "display_data"
    }
   ],
   "source": [
    "fig, (ax2, ax1) = plt.subplots(1, 2, gridspec_kw={'width_ratios': [1, 6]})\n",
    "fig.set_figwidth(7)\n",
    "df_pivot.plot.barh(ax=ax1, width=0.8) #(kind=\"bar\")\n",
    "#fig.set_size_inches(7, 6)\n",
    "ax1.set_xlabel(\"Accuracy\")\n",
    "ax1.set_xlim((0.7, 1.15))\n",
    "ax1.set_ylabel(\"τ\")\n",
    "ax1.set_xticks([0.70, 0.75, 0.8, 0.85, 0.9, 0.95, 1.0])\n",
    "ax1.legend(title='Scoring method')\n",
    "\n",
    "ax2.bar(df_payload.tau, df_payload.payload_size, tick_label=df_payload.tau, width=1.5)\n",
    "ax2.set_yscale('log')\n",
    "ax2.set_xlabel('τ')\n",
    "ax2.set_ylabel('avg. payload size')\n",
    "\n",
    "fig.tight_layout()\n",
    "\n",
    "# Use this to show the plot in a new window\n",
    "plt.savefig(dataset_name + '_results_comparison.pdf')\n",
    "plt.show()\n"
   ]
  },
  {
   "cell_type": "code",
   "execution_count": 522,
   "id": "d6af618c-9efa-4d06-8264-17453936f5eb",
   "metadata": {},
   "outputs": [
    {
     "data": {
      "text/html": [
       "<div>\n",
       "<style scoped>\n",
       "    .dataframe tbody tr th:only-of-type {\n",
       "        vertical-align: middle;\n",
       "    }\n",
       "\n",
       "    .dataframe tbody tr th {\n",
       "        vertical-align: top;\n",
       "    }\n",
       "\n",
       "    .dataframe thead th {\n",
       "        text-align: right;\n",
       "    }\n",
       "</style>\n",
       "<table border=\"1\" class=\"dataframe\">\n",
       "  <thead>\n",
       "    <tr style=\"text-align: right;\">\n",
       "      <th>tau</th>\n",
       "      <th>0.0</th>\n",
       "      <th>5.5</th>\n",
       "    </tr>\n",
       "    <tr>\n",
       "      <th>methd</th>\n",
       "      <th></th>\n",
       "      <th></th>\n",
       "    </tr>\n",
       "  </thead>\n",
       "  <tbody>\n",
       "    <tr>\n",
       "      <th>CNT</th>\n",
       "      <td>964.308333</td>\n",
       "      <td>80.741667</td>\n",
       "    </tr>\n",
       "    <tr>\n",
       "      <th>COS</th>\n",
       "      <td>964.308333</td>\n",
       "      <td>80.741667</td>\n",
       "    </tr>\n",
       "    <tr>\n",
       "      <th>WNG</th>\n",
       "      <td>964.308333</td>\n",
       "      <td>80.741667</td>\n",
       "    </tr>\n",
       "    <tr>\n",
       "      <th>WNG+COS</th>\n",
       "      <td>964.308333</td>\n",
       "      <td>80.741667</td>\n",
       "    </tr>\n",
       "  </tbody>\n",
       "</table>\n",
       "</div>"
      ],
      "text/plain": [
       "tau             0.0        5.5\n",
       "methd                         \n",
       "CNT      964.308333  80.741667\n",
       "COS      964.308333  80.741667\n",
       "WNG      964.308333  80.741667\n",
       "WNG+COS  964.308333  80.741667"
      ]
     },
     "execution_count": 522,
     "metadata": {},
     "output_type": "execute_result"
    }
   ],
   "source": [
    "import numpy as np\n",
    "df_pivot2 = pd.pivot_table(df, values=\"payload_size\", index=\"tau\", columns=\"methd\", aggfunc=np.mean)\n",
    "df_pivot2.T"
   ]
  },
  {
   "cell_type": "code",
   "execution_count": 523,
   "id": "5cc96a6b-4c37-4f6b-9669-a85c1275608d",
   "metadata": {},
   "outputs": [
    {
     "name": "stdout",
     "output_type": "stream",
     "text": [
      "Payload size reduced to 91.63 percent\n"
     ]
    }
   ],
   "source": [
    "vl = 100 * (1 - (df_pivot2.iloc[1]['COS'] / df_pivot2.iloc[0]['COS']))\n",
    "print(\"Payload size reduced to %s percent\" % round(vl, 2))"
   ]
  },
  {
   "cell_type": "code",
   "execution_count": null,
   "id": "b2058f6a-c906-4578-8089-cff245b2e2b0",
   "metadata": {},
   "outputs": [],
   "source": []
  },
  {
   "cell_type": "code",
   "execution_count": null,
   "id": "761a6d7a-147f-45fb-939b-e228804589b5",
   "metadata": {},
   "outputs": [],
   "source": []
  }
 ],
 "metadata": {
  "kernelspec": {
   "display_name": "Python 3",
   "language": "python",
   "name": "python3"
  },
  "language_info": {
   "codemirror_mode": {
    "name": "ipython",
    "version": 3
   },
   "file_extension": ".py",
   "mimetype": "text/x-python",
   "name": "python",
   "nbconvert_exporter": "python",
   "pygments_lexer": "ipython3",
   "version": "3.8.2"
  }
 },
 "nbformat": 4,
 "nbformat_minor": 5
}
